{
 "cells": [
  {
   "cell_type": "code",
   "execution_count": 1,
   "id": "511df061-d740-49d6-b683-b91050640b85",
   "metadata": {},
   "outputs": [],
   "source": [
    "import pandas as pd\n",
    "from datetime import datetime"
   ]
  },
  {
   "cell_type": "code",
   "execution_count": 2,
   "id": "7985304b-b3be-495c-b6db-cceacb9bc2df",
   "metadata": {},
   "outputs": [],
   "source": [
    "# Each book is a tuple: (Title, Author, Status [\"available\" or \"borrowed\"])\n",
    "book_list = [\n",
    "    (\"1984\", \"George Orwell\", \"available\"),\n",
    "    (\"To Kill a Mockingbird\", \"Harper Lee\", \"available\"),\n",
    "    (\"The Great Gatsby\", \"F. Scott Fitzgerald\", \"borrowed\")\n",
    "]\n",
    "\n",
    "# Set to track existing books to avoid duplicates\n",
    "book_titles = set([book[0].lower() for book in book_list])"
   ]
  },
  {
   "cell_type": "code",
   "execution_count": 3,
   "id": "7c9166b9-88e8-47b6-b732-bd16440a2d5e",
   "metadata": {},
   "outputs": [],
   "source": [
    "def add_book(title, author):\n",
    "    title_lower = title.lower()\n",
    "    if title_lower in book_titles:\n",
    "        print(f\"❌ Book '{title}' already exists.\")\n",
    "    else:\n",
    "        book_list.append((title, author, \"available\"))\n",
    "        book_titles.add(title_lower)\n",
    "        print(f\"✅ Book '{title}' by {author} added.\")"
   ]
  },
  {
   "cell_type": "code",
   "execution_count": 4,
   "id": "853980f0-6d39-4a78-89d7-7711537af477",
   "metadata": {},
   "outputs": [],
   "source": [
    "def view_available_books():\n",
    "    df = pd.DataFrame(book_list, columns=[\"Title\", \"Author\", \"Status\"])\n",
    "    available_books = df[df[\"Status\"] == \"available\"]\n",
    "    print(available_books)\n",
    "    return available_books"
   ]
  },
  {
   "cell_type": "code",
   "execution_count": 5,
   "id": "fcbe27de-e442-4219-b3ea-e800bd08bf4e",
   "metadata": {},
   "outputs": [],
   "source": [
    "def update_status(title, action):\n",
    "    global book_list\n",
    "    updated = False\n",
    "    for i, (book_title, author, status) in enumerate(book_list):\n",
    "        if book_title.lower() == title.lower():\n",
    "            if action == \"checkout\" and status == \"available\":\n",
    "                book_list[i] = (book_title, author, \"borrowed\")\n",
    "                print(f\"✅ You have borrowed '{book_title}'.\")\n",
    "                updated = True\n",
    "            elif action == \"return\" and status == \"borrowed\":\n",
    "                book_list[i] = (book_title, author, \"available\")\n",
    "                print(f\"✅ You have returned '{book_title}'.\")\n",
    "                updated = True\n",
    "            else:\n",
    "                print(f\"❌ Book is already '{status}' or invalid action.\")\n",
    "                updated = True\n",
    "    if not updated:\n",
    "        print(f\"❌ Book '{title}' not found.\")\n"
   ]
  },
  {
   "cell_type": "code",
   "execution_count": 6,
   "id": "6e1373e8-262d-4809-99a0-f2f3e3101ce2",
   "metadata": {},
   "outputs": [],
   "source": [
    "def export_loan_report():\n",
    "    df = pd.DataFrame(book_list, columns=[\"Title\", \"Author\", \"Status\"])\n",
    "    filename = \"loan_report.csv\"  # Fixed filename\n",
    "    df.to_csv(filename, index=False)\n",
    "    print(f\"📁 Loan report saved as {filename}\")"
   ]
  },
  {
   "cell_type": "code",
   "execution_count": null,
   "id": "c9037ea8-7f37-483e-87c6-85df9a6f23ca",
   "metadata": {},
   "outputs": [],
   "source": []
  }
 ],
 "metadata": {
  "kernelspec": {
   "display_name": "Python 3 (ipykernel)",
   "language": "python",
   "name": "python3"
  },
  "language_info": {
   "codemirror_mode": {
    "name": "ipython",
    "version": 3
   },
   "file_extension": ".py",
   "mimetype": "text/x-python",
   "name": "python",
   "nbconvert_exporter": "python",
   "pygments_lexer": "ipython3",
   "version": "3.13.5"
  }
 },
 "nbformat": 4,
 "nbformat_minor": 5
}
